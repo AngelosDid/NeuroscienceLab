{
 "cells": [
  {
   "cell_type": "markdown",
   "id": "6de0704c",
   "metadata": {},
   "source": [
    "### Read the Latency to startle.ipynb for an understanding of the filtering procedures. The calculation of %PPI uses the default Vmax and does not rectify based on preceding peaks."
   ]
  },
  {
   "cell_type": "code",
   "execution_count": null,
   "id": "b6cb20b5",
   "metadata": {},
   "outputs": [],
   "source": [
    "import pandas as pd\n",
    "import numpy as np\n",
    "import statistics as st\n",
    "from statistics import StatisticsError\n",
    "import plotly.express as plt\n",
    "import scipy\n",
    "from scipy.signal import find_peaks\n",
    "from decimal import Decimal as D\n",
    "import plotly.graph_objects as go\n",
    "from os import listdir\n",
    "from os.path import isfile, join\n",
    "from scipy.signal import chirp, find_peaks, peak_widths\n",
    "import re"
   ]
  },
  {
   "cell_type": "code",
   "execution_count": null,
   "id": "4001803c",
   "metadata": {},
   "outputs": [],
   "source": [
    "# row 8 in big_df is the 1st ms; every row corresponds to an ms. The column corresponds to vmax values"
   ]
  },
  {
   "cell_type": "code",
   "execution_count": null,
   "id": "0dd003f8",
   "metadata": {
    "code_folding": [
     0
    ]
   },
   "outputs": [],
   "source": [
    "def ColumNames ():\n",
    "    \"\"\"No input needed\n",
    "       Output : List with modified trial names as elements such as Trial3_Mouse4\"\"\"\n",
    "    columnames = []\n",
    "    Mouse_N = [1,2,3,4]*72\n",
    "    Trial_N = ['Trial'+str(i) for i in range(1,73) for y in range (4)]\n",
    "    for i in range (0,288):\n",
    "        columnames.append(Trial_N[i]+'_Mouse'+str(Mouse_N[i]))\n",
    "    return columnames"
   ]
  },
  {
   "cell_type": "code",
   "execution_count": null,
   "id": "a64e1763",
   "metadata": {
    "code_folding": [
     0
    ]
   },
   "outputs": [],
   "source": [
    "def Find_Maxima_And_Exclude (bigdf, file, cut_criterion_V=25, cut_criterion_T=30):\n",
    "    \"\"\" Input 1    : dataframe\n",
    "        Input 2    : str indicating a particular file with Startle raw data within a directory\n",
    "        Output 1   : dictionary with columns (trial names) as keys and Vmax as values\n",
    "        Output 2   : dictionary with columns (trial names) as keys and Tmax as values\n",
    "        \n",
    "        \n",
    "        Description : \n",
    "        1) Calculate Vmax and Tmax for each trial\n",
    "        2) save 'no stimulus' trials in an exclusion list\n",
    "        3) add low vmax trials (<cut_criterion) derived from stimulus-on conditions in another exclusion list\"\"\"\n",
    "    \n",
    "    Vmax_dic = {}\n",
    "    Tmax_dic = {}\n",
    "                                                           \n",
    "    for column in bigdf.columns :    \n",
    "        bigdf[column][6:-1] = bigdf[column][6:-1].astype(int)         # the numbers are by default strings; Here we change them to int \n",
    "        highest_V = bigdf[column][8:-1].max()                         # then we find the V max of every column, always searching from row 8 onwards since that's the stimulus onset\n",
    "        highest_T = (bigdf[bigdf[column] == highest_V].index[0]) - 8  # and the respective T value\n",
    "        \n",
    "        if bigdf[column].iloc[5] != ' No_stimulus' :                  # in case it was a stimulus-off trial the trial will be added to an exclusion list (see else)\n",
    "            both_criteria_satisfied = True                            # in order for V value to be accepted as a final V value, it has to be large enough. Moreover, its relevant Tvalue shouldn't be\n",
    "            if highest_V <= cut_criterion_V :                         # if the vmax was lower than cut_criterion_V, then we save the column's name to a specific exclusion list\n",
    "                all_too_low[file].append(column)                       \n",
    "                both_criteria_satisfied = False                       # This will prevent adding the V value to the final values, even if its T relevant value satisfies the criteria\n",
    "            if highest_T >= cut_criterion_T:                          # if the Tmax was higher than cut_criterion_T, then we save the column's name to a specific exclusion list\n",
    "                all_too_slow[file].append(column)                     # mind the difference, this is all_too_slow, not all_too_low\n",
    "                both_criteria_satisfied = False                       # This will prevent adding the V value to the final values, even if it satisfies the criteria\n",
    "            if both_criteria_satisfied == True :                      # this will only take place if the 2 if statements above are not activated\n",
    "                Vmax_dic[column] = highest_V\n",
    "        else :                                                        # if it was a no stimulus trial, then we save its name to another exclusion list\n",
    "            no_stim_excl[file].append(column) \n",
    "            \n",
    "    return Vmax_dic"
   ]
  },
  {
   "cell_type": "code",
   "execution_count": null,
   "id": "deec85cc",
   "metadata": {
    "code_folding": [
     0
    ]
   },
   "outputs": [],
   "source": [
    "def ExcludeNoisyOnset (df,file,cutms=5,cutsize=20,cutcounter=3):\n",
    "    \"\"\"Input 1: dataframe\n",
    "       Input 2: str indicating a particular file with Startle raw data within a directory\n",
    "       Input 3: int \n",
    "       Input 4: int \n",
    "       Input 5: int\n",
    "       global all_premature_resp : dict with raw data file names as keys (str) and dict as VALUES. \n",
    "                dict key : 'b10_c1.csv'\n",
    "                     value {'Trial1_Mouse1': 73, 'Trial1_Mouse2': 49, ... } \n",
    "       \n",
    "       Locates and excludes trials wherein noteworthy motion was detected too early following stimulus onset.\n",
    "       Criterion : if between 0 and 0+cutms miliseconds there is movement equal or higher than cutsize (V value) at least \n",
    "       cutcounter times, then the trial is added to exclusion list. Note: 0 is stimulus onset. Note that in the script for\n",
    "       time responses, the last for loop does not exist here. It is implemented in FindPeaks()\"\"\"\n",
    " \n",
    "    all_columns = df.columns[:-1]                                                                                           # -1 to get rid of 'miliseconds' column\n",
    "    for column_index in range(len(all_columns)):\n",
    "        curr_trial = all_columns[column_index]\n",
    "        if (curr_trial in no_stim_excl[file]) or (curr_trial in all_too_low[file]) or (curr_trial in all_too_slow[file]) :\n",
    "            continue\n",
    "        else :                                                                                                              # another criterion could be if any response in this window is 25 or more\n",
    "            counter = 0\n",
    "            for point in list(df[curr_trial][8:8+cutms]) :                                                                  # remember that 8 corresponds to 0 ms. Point is a point in time\n",
    "                if point >= cutsize :\n",
    "                    counter += 1\n",
    "                    if counter > cutcounter :\n",
    "                        all_premature_resp[file].append(curr_trial)\n",
    "                        break  \n",
    "    \n",
    "    for prem_trial in all_premature_resp[file]:                                                                             # delete premature trials from file with final V values\n",
    "        del all_final_V[file][prem_trial]            "
   ]
  },
  {
   "cell_type": "code",
   "execution_count": null,
   "id": "4b0ee1b4",
   "metadata": {
    "code_folding": [
     0
    ],
    "hide_input": false
   },
   "outputs": [],
   "source": [
    "def VerifyExclusions (all_final_V,file) :\n",
    "    \"\"\"Input 1: dict with raw data file names as keys (str) and dict as VALUES. \n",
    "                dict key : 'b10_c1.csv'\n",
    "                     value {'Trial1_Mouse1': 73, 'Trial1_Mouse2': 49, ... }\n",
    "       Input 2: str indicating a particular file with Startle raw data within a directory \"\"\"\n",
    "    \n",
    "    global no_stim_excl\n",
    "    global all_too_low\n",
    "    global all_too_slow\n",
    "    global all_premature_resp\n",
    "    \n",
    "    counter = 0 \n",
    "    for trial in all_final_V[file] :\n",
    "        if (trial in no_stim_excl[file]) or (trial in all_too_low[file]) or (trial in all_premature_resp[file]) or (trial in all_too_slow[file]):\n",
    "            print('Error detected. Some excluded trials have not been filtered out.')\n",
    "            counter += 1\n",
    "        else: \n",
    "            pass\n",
    "    if counter == 0 :\n",
    "        print (\"\\n All filtering criteria have been applied successfully !\")"
   ]
  },
  {
   "cell_type": "markdown",
   "id": "a5da269f",
   "metadata": {
    "hide_input": true
   },
   "source": [
    "## Main Code"
   ]
  },
  {
   "cell_type": "code",
   "execution_count": null,
   "id": "d0027a35",
   "metadata": {
    "code_folding": [],
    "scrolled": false
   },
   "outputs": [],
   "source": [
    "pd.set_option('display.max_rows', 300)\n",
    "pd.set_option('display.max_columns', 300)\n",
    "path = r'C:\\Users\\angdid\\Desktop\\Thib'\n",
    "files = [f for f in listdir(path) if isfile(join(path, f))]\n",
    "all_final_V = {}\n",
    "all_too_low = {}  # Excluded trials from all raw data in a folder where the default Vmax was below minimum criteria \n",
    "all_too_slow = {}\n",
    "all_dfs = {} \n",
    "all_premature_resp = {}\n",
    "no_stim_excl = {} \n",
    "\n",
    "for file in files :\n",
    "    print('loading ', file)\n",
    "    big_df = pd.read_csv(join(path,file))\n",
    "    big_df.columns = ColumNames()\n",
    "    all_too_low[file] = []\n",
    "    all_too_slow[file] = []\n",
    "    all_premature_resp[file]=[]\n",
    "    no_stim_excl[file] = []\n",
    "    \n",
    "    # Default Vmax and Tmax except fore the cases where no stimulus is present or Vmax is too low (see parameters)\n",
    "    all_final_V[file] = Find_Maxima_And_Exclude(big_df,file)    \n",
    "    df = big_df.copy(deep = True) \n",
    "    ExcludeNoisyOnset(df,file)\n",
    "    all_dfs[file] = df\n",
    "\n",
    "VerifyExclusions(all_final_V,file)"
   ]
  },
  {
   "cell_type": "markdown",
   "id": "12530140",
   "metadata": {},
   "source": [
    "# Create excel with final values  for statistical analysis "
   ]
  },
  {
   "cell_type": "markdown",
   "id": "e32146cb",
   "metadata": {},
   "source": [
    "Trials of 120dB do not include pre-pulse. We use them to calculate the reaction to the stimulus per se (control). However, we don't take into all 120db trials in our experiment. Only some of them ( the \"sandwiched\" ones ) These are the trials 7,16..66 as indicated in list \"sandwiched\" below. "
   ]
  },
  {
   "cell_type": "code",
   "execution_count": null,
   "id": "19c7aaac",
   "metadata": {},
   "outputs": [],
   "source": [
    "# an expected mistake here is same mouse id in different trials because the user hasnt changed it on Startle"
   ]
  },
  {
   "cell_type": "code",
   "execution_count": null,
   "id": "b0e613b7",
   "metadata": {
    "code_folding": [
     0
    ],
    "hide_input": false
   },
   "outputs": [],
   "source": [
    "def IDLocation (big_df):\n",
    "    \"\"\"Input : big dataframe (without excluded trials)\n",
    "       Output: int indicating the row wherein the mouse id is in the raw data file\n",
    "       \n",
    "       For some reason, sometimes the mouse IDs are in different columns in Startle's raw data files.\n",
    "       Could be because there is a Subject and an ID column. And I was usually using the Subject columns to write IDs.\n",
    "       This is to locate the right row provided that mouse id has 6 digits\"\"\"\n",
    "    \n",
    "    for y in range(6):\n",
    "        lista = (list(big_df[big_df.columns[0:4]].iloc[y])) #Look at 6 first rows of first 4 col, not only 1st col, because 1st might be No entry\n",
    "        for i in lista:\n",
    "            try :\n",
    "                int(i)\n",
    "                if re.findall(r'\\d{6}',i):\n",
    "                    return y\n",
    "            except:\n",
    "                pass"
   ]
  },
  {
   "cell_type": "code",
   "execution_count": null,
   "id": "ca89eeb1",
   "metadata": {
    "code_folding": [
     0
    ],
    "hide_input": false
   },
   "outputs": [],
   "source": [
    "def GleandB (Vmax,file,sandwiched,N_animals=4) :\n",
    "    \"\"\" \n",
    "       Input 1: Dict with trials (str) as keys and Vvalue of that trial as value. These are the all_final_V values of the file.\n",
    "       Input 1 example : {'Trial1_Mouse1' 312\n",
    "                          'Trial1_Mouse2': 474\n",
    "                          'Trial1_Mouse3': 415\n",
    "                          'Trial1_Mouse4': 410\n",
    "                          'Trial2_Mouse1': 278\n",
    "                          ... etc ...\n",
    "       Input 2: str indicating a particular file with Startle raw data within a directory\n",
    "       Input 3: list with 120dB trials (indicating points in an experiment's trial sequence) that we are solely interested in\n",
    "       Input 4: int representing the number of animals in an experiment (normally we use all 4 boxes).\n",
    "       \n",
    "       Output : Dict -> Keys: str representing real mouse id\n",
    "                        Values: Dict -> keys: dB conditions (str) \n",
    "                                        value: list with all T (or V, depending on input 5) values observed for each dB condition\n",
    "                                        \n",
    "       Output example : {'  423952': {'Startle_120dB': [14, 14, 14, 15, 14, 15, 14, 14, 14, 14, 14, 14], \n",
    "                                       'PPI_85dB': [16, 15, 15, 16, 16, 14, 15, 14, 14, 14], \n",
    "                                       'PPI_80dB': [15, 15, 15, 15, 15, 14, 15, 14], \n",
    "                                       'PPI_75dB': [14, 15, 15, 14, 14, 15, 16, 14, 16, 15]}, '  \n",
    "                            423456': ... etc ...\n",
    "      \n",
    "      Non-returned output : appending real mouse ids (as values) to a dict with numbers corresponding to boxes as keys.\n",
    "                            This dict is the cage_and_mouse variable.\n",
    "      \n",
    "      This function does nothing more than rearranging already existent information. See Input1 and Output example \"\"\"\n",
    "       \n",
    "    curr_df = all_dfs[file]                                                                                               # isolate the dataframe of interest\n",
    "    id_row = IDLocation(all_dfs[file])                                                                                    # locate the row where the ID is \n",
    "    boxid = [(f'Mouse{curr_df[column].loc[6]}',curr_df[column].loc[id_row]) for column in curr_df[curr_df.columns[8:12]]] #6th row always contains the boxnumber and by default box 1 corresponds to Mouse1. Id row can vary but it contains the real id. Here, we create (boxnumber, real id) \n",
    "\n",
    "    # Mouse1 means mouse in box 1 and so on...\n",
    "    \n",
    "    dB = { 'Mouse1' : {'Startle_120dB': [] , 'PPI_85dB' : [] , 'PPI_80dB' : [], 'PPI_75dB' : [] },\n",
    "           'Mouse2' : {'Startle_120dB': [] , 'PPI_85dB' : [] , 'PPI_80dB' : [], 'PPI_75dB' : [] }, \n",
    "           'Mouse3' : {'Startle_120dB': [] , 'PPI_85dB' : [] , 'PPI_80dB' : [], 'PPI_75dB' : [] },\n",
    "           'Mouse4' : {'Startle_120dB': [] , 'PPI_85dB' : [] , 'PPI_80dB' : [], 'PPI_75dB' : [] }\n",
    "         }\n",
    "    \n",
    "    for trial in Vmax:  \n",
    "        condition = df[trial].loc[5]                                                             # Can be either No stimulus or x_NdB, located always at 5th row in the dataframe. Here we are using the name of the trial from Vmax dictionary to locate it from the df\n",
    "        mouse_number = trial.split('_')[1]                                                       # for instance, isolate Mouse3 from 'Trial1_Mouse3'\n",
    "        valdB = re.findall('\\d+', condition)[0]                                                  # For unknown reason, raw data have either one or two whitespaces before condition itself\n",
    "        ppiORstartle = condition.split('_')[0].strip()                                           #for instance, isolate 'PPI' from ' PPI_85dB' or '  PPI_85dB'. Or isolate Startle from 'Startle_120dB' \n",
    "        stimtype = f'{ppiORstartle}_{valdB}dB'                                                   # note that str has been stripped. Thus there is no whitespace in the beginning\n",
    "        if ('Startle' in stimtype) and (df[trial].loc[7] not in sandwiched):                     # if there is a 120dB condition but is not in the ones we study. [7] gives the number of the trial\n",
    "            pass\n",
    "        else :\n",
    "            dB[mouse_number][stimtype].append(Vmax[trial])                                       # Vmax[trial] to take the value of the trial, which is a key of Vmax\n",
    "                                                                                                 # Now we want to change Mouse1,Mouse2... to real id names. We'll use boxid which is a list with [MouseN,realid], where N is a number from 1 to 4\n",
    "    for cageN,real_id in boxid:                                                                  # What we are doing is taking everything after Mouse1,Mouse2... and adding it to a newly created key in dB dictionary. This key has the real id number\n",
    "        dB[real_id] = dB.pop(cageN)                                                              # pop the key with its value and create a new mouse ID key with this key and value\n",
    "        cage_and_mouse[int(cageN[-1])].append(real_id)                                           # This is to know to which out of the 4 boxes does the ID belong to when we'll be creating final excel columns. Note that if there were more than 9 boxes, regex should be used instead of -1\n",
    "        \n",
    "    return dB"
   ]
  },
  {
   "cell_type": "code",
   "execution_count": null,
   "id": "bc51cb33",
   "metadata": {
    "code_folding": [
     0
    ],
    "hide_input": false
   },
   "outputs": [],
   "source": [
    "def MixandMean (dB,output_df) :\n",
    "    \"\"\"Input 1: Dict -> Keys: str representing real mouse id\n",
    "                        Values: Dict -> keys: dB conditions (str) \n",
    "                                        values: list with all V (or T) values observed for each condition\n",
    "                For more clarity see the Output exampled of GleandB()\n",
    "                \n",
    "       Input 2: empty df with real ids as columns and ['120dB', '75-85dB','%PPI', 'Filtered_Trials_PPI','Filtered_Trials_Non_PPI','Box'] as indices\n",
    "       Output : filled df with real ids as columns and ['120dB', '75-85dB','%PPI', 'Filtered_Trials_PPI','Filtered_Trials_Non_PPI','Box'] as indices\"\"\"\n",
    "    \n",
    "    for mouse in dB.keys() :\n",
    "        PPlen = len (dB[mouse]['PPI_85dB']) + len (dB[mouse]['PPI_80dB']) + len (dB[mouse]['PPI_75dB'])\n",
    "        PPsum = sum (dB[mouse]['PPI_85dB']) + sum (dB[mouse]['PPI_80dB']) + sum (dB[mouse]['PPI_75dB'])\n",
    "        try :\n",
    "            PPAvg = round (PPsum / PPlen, ndigits=2)\n",
    "            NoPPAvg = round (st.mean(map(float,dB[mouse]['Startle_120dB'])), ndigits=2)\n",
    "        except (StatisticsError,ZeroDivisionError) as e:\n",
    "            excluded_mice.append(mouse) #in case of absence of values\n",
    "            continue\n",
    "          \n",
    "        output_df[mouse]['120dB'] = NoPPAvg\n",
    "        output_df[mouse]['75-85dB'] = PPAvg\n",
    "        output_df[mouse]['%PPI'] = (1 - (PPAvg/NoPPAvg)) * 100 \n",
    "        output_df[mouse]['Filtered_Trials_PPI']= PPlen\n",
    "        output_df[mouse]['Filtered_Trials_Non_PPI']= len(dB[mouse]['Startle_120dB'])\n",
    "        \n",
    "    \n",
    "    return output_df"
   ]
  },
  {
   "cell_type": "code",
   "execution_count": null,
   "id": "d3d96f71",
   "metadata": {
    "code_folding": [
     0
    ],
    "hide_input": false
   },
   "outputs": [],
   "source": [
    "def ExcludeFewTrials (PPI_accepted_N=13,NonPPI_accepted_N=4) :\n",
    "    \"\"\"Excludes animals where only few trials were filtered in (Excel is a dataframe and will eventually become the output to excel)\"\"\"\n",
    "    for ID in excel.columns:\n",
    "        if excel[ID][3] >= PPI_accepted_N and excel[ID][4] >= NonPPI_accepted_N :                          # See excel. 3 is for Filtered_Trials_PPI, 4 for NonPPI\n",
    "            pass\n",
    "        else:\n",
    "            print('Low number of values for mouse {mouse}. This will not be included in final excel file'.format(mouse=excel[ID].name))\n",
    "            excluded_mice.append(excel[ID].name)\n",
    "            del excel[ID]"
   ]
  },
  {
   "cell_type": "code",
   "execution_count": null,
   "id": "255fd9ae",
   "metadata": {},
   "outputs": [],
   "source": [
    "all_file_ids = []\n",
    "sandwiched = [7,16,19,23,27,33,38,45,47,54,59,66]\n",
    "excluded_mice = []                                                                                                 # append takes place in mixandmean()\n",
    "excel = pd.DataFrame(index = ['120dB', '75-85dB','%PPI', 'Filtered_Trials_PPI','Filtered_Trials_Non_PPI','Box'])\n",
    "cage_and_mouse = {1:[],2:[],3:[],4:[]}                                                                             # real mouse ids will be appended here in GleandB()\n",
    "\n",
    "for file in files: \n",
    "    dB = GleandB(all_final_V[file],file,sandwiched)\n",
    "    output_df = pd.DataFrame(columns = dB.keys(), index = ['120dB', '75-85dB','%PPI', 'Filtered_Trials_PPI','Filtered_Trials_Non_PPI','Box'] )\n",
    "    output_df = MixandMean(dB,output_df)\n",
    "    for column in output_df.columns :\n",
    "        if 'Entry' not in column:\n",
    "            excel[column]= output_df[column]\n",
    "            all_file_ids.append(column.strip())\n",
    "\n",
    "for key,value in cage_and_mouse.items():\n",
    "    value = [ident for ident in value if \"Entry\" not in ident]\n",
    "    cage_and_mouse[key] = value\n",
    "    \n",
    "for col_id_str in excel.columns:\n",
    "    for dic_index in range(1,len(cage_and_mouse)+1) :                                                               # that should just be 4 when using 4 boxes\n",
    "        if col_id_str in cage_and_mouse[dic_index]:\n",
    "            excel[col_id_str].loc['Box'] = dic_index\n",
    "\n",
    "ExcludeFewTrials()                                                                                                  # excludes mice based on the number of filtered_in values for PPI and NonPPI\n",
    "excel = excel.T  #transpose\n",
    "excel.to_excel ('C:\\\\Users\\\\angdid\\\\Desktop\\\\test.xlsx')\n",
    "\n",
    "#can add a code to test for same ids in different files"
   ]
  },
  {
   "cell_type": "code",
   "execution_count": null,
   "id": "22f22167",
   "metadata": {},
   "outputs": [],
   "source": []
  }
 ],
 "metadata": {
  "hide_input": false,
  "kernelspec": {
   "display_name": "Python 3 (ipykernel)",
   "language": "python",
   "name": "python3"
  },
  "language_info": {
   "codemirror_mode": {
    "name": "ipython",
    "version": 3
   },
   "file_extension": ".py",
   "mimetype": "text/x-python",
   "name": "python",
   "nbconvert_exporter": "python",
   "pygments_lexer": "ipython3",
   "version": "3.9.12"
  }
 },
 "nbformat": 4,
 "nbformat_minor": 5
}
